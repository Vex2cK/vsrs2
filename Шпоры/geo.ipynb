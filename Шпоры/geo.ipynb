{
 "cells": [
  {
   "cell_type": "markdown",
   "metadata": {},
   "source": [
    "# API"
   ]
  },
  {
   "cell_type": "markdown",
   "metadata": {},
   "source": [
    "## Обратное геокодирование"
   ]
  },
  {
   "cell_type": "markdown",
   "metadata": {},
   "source": [
    "### Yandex Geocoder API"
   ]
  },
  {
   "cell_type": "markdown",
   "metadata": {},
   "source": [
    "Yandex Maps предоставляет мощный API, который поддерживает обратное геокодирование и может возвращать названия жилых комплексов.\n",
    "\n",
    "Документация: [Yandex Geocoder API](https://yandex.com/dev/geocode/doc/ru/)"
   ]
  },
  {
   "cell_type": "code",
   "execution_count": 2,
   "metadata": {},
   "outputs": [
    {
     "name": "stdout",
     "output_type": "stream",
     "text": [
      "Ошибка: 403\n"
     ]
    }
   ],
   "source": [
    "import requests\n",
    "\n",
    "def get_address_yandex(lat, lon, api_key):\n",
    "    url = f\"https://geocode-maps.yandex.ru/1.x/?apikey={api_key}&geocode={lon},{lat}&format=json\"\n",
    "    response = requests.get(url)\n",
    "    if response.status_code == 200:\n",
    "        data = response.json()\n",
    "        try:\n",
    "            address = data['response']['GeoObjectCollection']['featureMember'][0]['GeoObject']['name']\n",
    "            return address\n",
    "        except IndexError:\n",
    "            return \"ЖК не найден\"\n",
    "    else:\n",
    "        return f\"Ошибка: {response.status_code}\"\n",
    "\n",
    "# Пример использования\n",
    "lat, lon = 55.751244, 37.618423  # Москва, пример координат\n",
    "api_key = \"ВАШ_API_KEY\"\n",
    "print(get_address_yandex(lat, lon, api_key))"
   ]
  },
  {
   "cell_type": "markdown",
   "metadata": {},
   "source": [
    "### Google Maps Geocoding API"
   ]
  },
  {
   "cell_type": "markdown",
   "metadata": {},
   "source": [
    "Google Maps также предоставляет обратное геокодирование, и его база данных часто содержит названия ЖК.\n",
    "\n",
    "Документация: [Google Maps Geocoding API](https://developers.google.com/maps/documentation/geocoding/overview)"
   ]
  },
  {
   "cell_type": "code",
   "execution_count": 1,
   "metadata": {},
   "outputs": [
    {
     "name": "stdout",
     "output_type": "stream",
     "text": [
      "ЖК не найден\n"
     ]
    }
   ],
   "source": [
    "import requests\n",
    "\n",
    "def get_address_google(lat, lon, api_key):\n",
    "    url = f\"https://maps.googleapis.com/maps/api/geocode/json?latlng={lat},{lon}&key={api_key}\"\n",
    "    response = requests.get(url)\n",
    "    if response.status_code == 200:\n",
    "        data = response.json()\n",
    "        try:\n",
    "            address = data['results'][0]['formatted_address']\n",
    "            return address\n",
    "        except IndexError:\n",
    "            return \"ЖК не найден\"\n",
    "    else:\n",
    "        return f\"Ошибка: {response.status_code}\"\n",
    "\n",
    "# Пример использования\n",
    "lat, lon = 55.751244, 37.618423\n",
    "api_key = \"ВАШ_API_KEY\"\n",
    "print(get_address_google(lat, lon, api_key))"
   ]
  },
  {
   "cell_type": "markdown",
   "metadata": {},
   "source": [
    "### Nominatim (OpenStreetMap API)"
   ]
  },
  {
   "cell_type": "markdown",
   "metadata": {},
   "source": [
    "Nominatim — это бесплатный сервис OpenStreetMap (OSM), который предоставляет обратное геокодирование. Однако его база данных может быть менее полной по сравнению с коммерческими сервисами, но она содержит информацию о многих ЖК.\n",
    "\n",
    "Документация: [Nominatim API](https://nominatim.org/release-docs/latest/api/Overview/)"
   ]
  },
  {
   "cell_type": "code",
   "execution_count": 7,
   "metadata": {},
   "outputs": [
    {
     "name": "stdout",
     "output_type": "stream",
     "text": [
      "30/2 с5-6, Тверская улица, 49, Тверской район, Москва, Центральный федеральный округ, 125047, Россия\n"
     ]
    }
   ],
   "source": [
    "import requests\n",
    "\n",
    "def get_address_nominatim(lat, lon):\n",
    "    url = f\"https://nominatim.openstreetmap.org/reverse?lat={lat}&lon={lon}&format=json\"\n",
    "    response = requests.get(url, headers={'User-Agent': 'Mozilla/5.0'})\n",
    "    if response.status_code == 200:\n",
    "        data = response.json()\n",
    "        address = data.get(\"display_name\", \"ЖК не найден\")\n",
    "        return address\n",
    "    else:\n",
    "        return f\"Ошибка: {response.status_code}\"\n",
    "\n",
    "# lat, lon = 55.751244, 37.618423\n",
    "lat, lon = 55.75233875433004,37.63744241958161\n",
    "lat, lon = 55.76944772219524,37.59719193650943\n",
    "print(get_address_nominatim(lat, lon))\n"
   ]
  },
  {
   "cell_type": "markdown",
   "metadata": {},
   "source": [
    "## Прямое геокодирование"
   ]
  },
  {
   "cell_type": "markdown",
   "metadata": {},
   "source": [
    "там тоже есть яндекс и гугл но нужен api key"
   ]
  },
  {
   "cell_type": "markdown",
   "metadata": {},
   "source": [
    "### Nominatim API (OpenStreetMap)"
   ]
  },
  {
   "cell_type": "markdown",
   "metadata": {},
   "source": [
    "Nominatim (OpenStreetMap) также поддерживает прямое геокодирование и позволяет бесплатно получать координаты по адресу.\n",
    "\n",
    "URL: https://nominatim.org/release-docs/latest/api/Overview/\n",
    "\n",
    "Пример использования:"
   ]
  },
  {
   "cell_type": "code",
   "execution_count": null,
   "metadata": {},
   "outputs": [
    {
     "name": "stdout",
     "output_type": "stream",
     "text": [
      "6 к1, Волжский бульвар, район Текстильщики, Москва, Центральный федеральный округ, 109518, Россия\n",
      "55.7182844 37.74012915\n",
      "6 к1, Волжский бульвар, район Текстильщики, Москва, Центральный федеральный округ, 109518, Россия\n"
     ]
    }
   ],
   "source": [
    "import requests\n",
    "\n",
    "def geocode_nominatim(address):\n",
    "    url = f\"https://nominatim.openstreetmap.org/search?q={address}&format=json\"\n",
    "    response = requests.get(url, headers={'User-Agent': 'Mozilla/5.0'})\n",
    "    if response.status_code == 200:\n",
    "        data = response.json()\n",
    "        # print(data[0]['display_name'])\n",
    "        try:\n",
    "            lat = data[0]['lat']\n",
    "            lon = data[0]['lon']\n",
    "            return float(lat), float(lon)\n",
    "        except IndexError:\n",
    "            return \"Координаты не найдены\"\n",
    "    else:\n",
    "        return f\"Ошибка: {response.status_code}\"\n",
    "\n",
    "# Пример использования\n",
    "address = \"Волжский 6к1\"\n",
    "lat, lon = geocode_nominatim(address)\n",
    "print(lat, lon)\n",
    "print(get_address_nominatim(lat, lon))"
   ]
  },
  {
   "cell_type": "code",
   "execution_count": null,
   "metadata": {},
   "outputs": [],
   "source": []
  }
 ],
 "metadata": {
  "kernelspec": {
   "display_name": "Python 3",
   "language": "python",
   "name": "python3"
  },
  "language_info": {
   "codemirror_mode": {
    "name": "ipython",
    "version": 3
   },
   "file_extension": ".py",
   "mimetype": "text/x-python",
   "name": "python",
   "nbconvert_exporter": "python",
   "pygments_lexer": "ipython3",
   "version": "3.9.7"
  }
 },
 "nbformat": 4,
 "nbformat_minor": 2
}
