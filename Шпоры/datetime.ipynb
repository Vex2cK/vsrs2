{
 "cells": [
  {
   "cell_type": "markdown",
   "metadata": {},
   "source": [
    "# Модуль **datetime**"
   ]
  },
  {
   "cell_type": "markdown",
   "metadata": {},
   "source": [
    "## База"
   ]
  },
  {
   "cell_type": "code",
   "execution_count": 2,
   "metadata": {},
   "outputs": [],
   "source": [
    "from datetime import datetime"
   ]
  },
  {
   "cell_type": "code",
   "execution_count": 3,
   "metadata": {},
   "outputs": [
    {
     "name": "stdout",
     "output_type": "stream",
     "text": [
      "Дата: 2024-11-09\n",
      "День недели: Saturday\n",
      "Номер дня недели: 5\n",
      "Выходной\n"
     ]
    }
   ],
   "source": [
    "# Пример: указать дату, которую вы хотите проверить\n",
    "date_str = \"2024-11-09\"\n",
    "date = datetime.strptime(date_str, \"%Y-%m-%d\")\n",
    "\n",
    "# Определить день недели (0 - понедельник, 6 - воскресенье)\n",
    "day_of_week = date.weekday()\n",
    "\n",
    "# Проверка, является ли день выходным (суббота или воскресенье)\n",
    "is_weekend = day_of_week >= 5\n",
    "\n",
    "# Получить название дня недели\n",
    "day_name = date.strftime(\"%A\")\n",
    "\n",
    "# Вывести результаты\n",
    "print(f\"Дата: {date_str}\")\n",
    "print(f\"День недели: {day_name}\")\n",
    "print(f\"Номер дня недели: {day_of_week}\")  # 0 = понедельник, 6 = воскресенье\n",
    "print(\"Выходной\" if is_weekend else \"Рабочий день\")"
   ]
  },
  {
   "cell_type": "markdown",
   "metadata": {},
   "source": [
    "## Pandas dtype"
   ]
  },
  {
   "cell_type": "code",
   "execution_count": 1,
   "metadata": {},
   "outputs": [
    {
     "name": "stdout",
     "output_type": "stream",
     "text": [
      "<class 'pandas.core.frame.DataFrame'>\n",
      "RangeIndex: 3 entries, 0 to 2\n",
      "Data columns (total 2 columns):\n",
      " #   Column    Non-Null Count  Dtype         \n",
      "---  ------    --------------  -----         \n",
      " 0   date      3 non-null      datetime64[ns]\n",
      " 1   datetime  3 non-null      datetime64[ns]\n",
      "dtypes: datetime64[ns](2)\n",
      "memory usage: 176.0 bytes\n"
     ]
    }
   ],
   "source": [
    "import pandas as pd\n",
    "\n",
    "# Пример данных\n",
    "data = {\n",
    "    'date': ['2023-01-01', '2023-01-02', '2023-01-03'],\n",
    "    'datetime': ['2023-01-01 12:00:00', '2023-01-02 13:30:00', '2023-01-03 15:45:00']\n",
    "}\n",
    "df = pd.DataFrame(data)\n",
    "\n",
    "# Преобразование к datetime64[ns]\n",
    "df['date'] = pd.to_datetime(df['date'])\n",
    "df['datetime'] = pd.to_datetime(df['datetime'])\n",
    "\n",
    "df.info()"
   ]
  },
  {
   "cell_type": "code",
   "execution_count": 2,
   "metadata": {},
   "outputs": [
    {
     "data": {
      "text/plain": [
       "0   2023-01-01\n",
       "1   2023-01-02\n",
       "2   2023-01-03\n",
       "Name: date, dtype: datetime64[ns]"
      ]
     },
     "execution_count": 2,
     "metadata": {},
     "output_type": "execute_result"
    }
   ],
   "source": [
    "df['date']"
   ]
  },
  {
   "cell_type": "markdown",
   "metadata": {},
   "source": [
    "# Модуль **calendar**"
   ]
  },
  {
   "cell_type": "code",
   "execution_count": 6,
   "metadata": {},
   "outputs": [
    {
     "data": {
      "text/plain": [
       "True"
      ]
     },
     "execution_count": 6,
     "metadata": {},
     "output_type": "execute_result"
    }
   ],
   "source": [
    "import calendar\n",
    "is_weekend = calendar.weekday(date.year, date.month, date.day) >= 5\n",
    "is_weekend"
   ]
  }
 ],
 "metadata": {
  "kernelspec": {
   "display_name": "Python 3",
   "language": "python",
   "name": "python3"
  },
  "language_info": {
   "codemirror_mode": {
    "name": "ipython",
    "version": 3
   },
   "file_extension": ".py",
   "mimetype": "text/x-python",
   "name": "python",
   "nbconvert_exporter": "python",
   "pygments_lexer": "ipython3",
   "version": "3.9.7"
  }
 },
 "nbformat": 4,
 "nbformat_minor": 2
}
